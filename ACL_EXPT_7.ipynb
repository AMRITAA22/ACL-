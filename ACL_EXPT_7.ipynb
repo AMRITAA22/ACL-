{
  "nbformat": 4,
  "nbformat_minor": 0,
  "metadata": {
    "colab": {
      "provenance": []
    },
    "kernelspec": {
      "name": "python3",
      "display_name": "Python 3"
    },
    "language_info": {
      "name": "python"
    }
  },
  "cells": [
    {
      "cell_type": "markdown",
      "source": [
        "**7. To implement time data stream processing**"
      ],
      "metadata": {
        "id": "G3fZkKKAR82I"
      }
    },
    {
      "cell_type": "code",
      "execution_count": 2,
      "metadata": {
        "colab": {
          "base_uri": "https://localhost:8080/"
        },
        "id": "-X_KTOabR54e",
        "outputId": "de764100-f4ca-49a7-9aa6-84e099d978a8"
      },
      "outputs": [
        {
          "output_type": "stream",
          "name": "stdout",
          "text": [
            "Starting the data stream...\n",
            "Received: {'timestamp': Timestamp('2025-04-26 18:08:09.298491'), 'value': 13.859676639272674}\n",
            "Received: {'timestamp': Timestamp('2025-04-26 18:08:10.303234'), 'value': 52.307553541447135}\n",
            "Received: {'timestamp': Timestamp('2025-04-26 18:08:11.303653'), 'value': 10.810906313481235}\n",
            "Received: {'timestamp': Timestamp('2025-04-26 18:08:12.303960'), 'value': 18.85257282476214}\n",
            "Received: {'timestamp': Timestamp('2025-04-26 18:08:13.304282'), 'value': 25.687755733463668}\n",
            "Received: {'timestamp': Timestamp('2025-04-26 18:08:14.304727'), 'value': 69.63246062898857}\n",
            "Received: {'timestamp': Timestamp('2025-04-26 18:08:15.305041'), 'value': 80.59253534896158}\n",
            "Received: {'timestamp': Timestamp('2025-04-26 18:08:16.305382'), 'value': 60.00206148036669}\n",
            "Received: {'timestamp': Timestamp('2025-04-26 18:08:17.305694'), 'value': 10.995439367941723}\n",
            "Received: {'timestamp': Timestamp('2025-04-26 18:08:18.306027'), 'value': 27.675930480487324}\n",
            "\n",
            "Streamed DataFrame:\n",
            "                   timestamp      value\n",
            "0 2025-04-26 18:08:09.298491  13.859677\n",
            "1 2025-04-26 18:08:10.303234  52.307554\n",
            "2 2025-04-26 18:08:11.303653  10.810906\n",
            "3 2025-04-26 18:08:12.303960  18.852573\n",
            "4 2025-04-26 18:08:13.304282  25.687756\n",
            "5 2025-04-26 18:08:14.304727  69.632461\n",
            "6 2025-04-26 18:08:15.305041  80.592535\n",
            "7 2025-04-26 18:08:16.305382  60.002061\n",
            "8 2025-04-26 18:08:17.305694  10.995439\n",
            "9 2025-04-26 18:08:18.306027  27.675930\n",
            "\n",
            "Basic Processing:\n",
            "Average Value: 37.04168923591728\n",
            "Max Value: 80.59253534896158\n",
            "Min Value: 10.810906313481235\n"
          ]
        }
      ],
      "source": [
        "# Step 1: Import libraries\n",
        "import time\n",
        "import random\n",
        "import pandas as pd\n",
        "\n",
        "# Step 2: Simulate a data stream\n",
        "def generate_stream_data():\n",
        "    \"\"\"Simulate a streaming data record\"\"\"\n",
        "    timestamp = pd.Timestamp.now()\n",
        "    value = random.uniform(10, 100)  # Random value between 10 and 100\n",
        "    return {'timestamp': timestamp, 'value': value}\n",
        "\n",
        "# Step 3: Process Stream\n",
        "stream_data = []\n",
        "\n",
        "print(\"Starting the data stream...\")\n",
        "\n",
        "for _ in range(10):  # Simulate 10 records\n",
        "    data = generate_stream_data()\n",
        "    stream_data.append(data)\n",
        "    print(f\"Received: {data}\")\n",
        "\n",
        "    # Simulate real-time arrival\n",
        "    time.sleep(1)  # 1 second gap\n",
        "\n",
        "# Step 4: After Streaming - Process Collected Data\n",
        "df = pd.DataFrame(stream_data)\n",
        "print(\"\\nStreamed DataFrame:\")\n",
        "print(df)\n",
        "\n",
        "# Step 5: Example Processing\n",
        "print(\"\\nBasic Processing:\")\n",
        "\n",
        "print(\"Average Value:\", df['value'].mean())\n",
        "print(\"Max Value:\", df['value'].max())\n",
        "print(\"Min Value:\", df['value'].min())\n"
      ]
    }
  ]
}