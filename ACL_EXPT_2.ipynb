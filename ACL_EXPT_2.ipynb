{
  "nbformat": 4,
  "nbformat_minor": 0,
  "metadata": {
    "colab": {
      "provenance": []
    },
    "kernelspec": {
      "name": "python3",
      "display_name": "Python 3"
    },
    "language_info": {
      "name": "python"
    }
  },
  "cells": [
    {
      "cell_type": "markdown",
      "source": [
        "**2. Implement data processing techniques using AWS SageMaker**"
      ],
      "metadata": {
        "id": "wAVaikpnPwlU"
      }
    },
    {
      "cell_type": "code",
      "execution_count": 1,
      "metadata": {
        "colab": {
          "base_uri": "https://localhost:8080/"
        },
        "id": "BDQnRvEmPtaT",
        "outputId": "08cc0b93-4eeb-4cb1-d2f8-41ec032e0323"
      },
      "outputs": [
        {
          "output_type": "stream",
          "name": "stdout",
          "text": [
            "Mounted at /content/drive\n",
            "✅ Data processing complete and saved to cloud (Google Drive)\n"
          ]
        }
      ],
      "source": [
        "# Step 1: Load Iris Dataset\n",
        "from sklearn.datasets import load_iris\n",
        "import pandas as pd\n",
        "import numpy as np\n",
        "\n",
        "iris = load_iris()\n",
        "df = pd.DataFrame(iris.data, columns=iris.feature_names)\n",
        "df['target'] = iris.target\n",
        "\n",
        "# Step 2: Simulate \"Raw Data Upload\" to S3 (we’ll just save to Drive)\n",
        "from google.colab import drive\n",
        "drive.mount('/content/drive')\n",
        "df.to_csv('/content/drive/MyDrive/iris_raw.csv', index=False)\n",
        "\n",
        "# Step 3: Data Preprocessing\n",
        "# Let’s normalize the feature columns\n",
        "\n",
        "from sklearn.preprocessing import StandardScaler\n",
        "\n",
        "X = df.drop('target', axis=1)\n",
        "y = df['target']\n",
        "scaler = StandardScaler()\n",
        "X_scaled = scaler.fit_transform(X)\n",
        "\n",
        "# Combine scaled features and target\n",
        "processed_df = pd.DataFrame(X_scaled, columns=iris.feature_names)\n",
        "processed_df['target'] = y\n",
        "\n",
        "# Step 4: Simulate \"Processed Data Upload\" to S3 (again, saving to Drive)\n",
        "processed_df.to_csv('/content/drive/MyDrive/iris_processed.csv', index=False)\n",
        "\n",
        "print(\"✅ Data processing complete and saved to cloud (Google Drive)\")\n"
      ]
    },
    {
      "cell_type": "code",
      "source": [],
      "metadata": {
        "id": "CcXj-fitPuBc"
      },
      "execution_count": null,
      "outputs": []
    }
  ]
}